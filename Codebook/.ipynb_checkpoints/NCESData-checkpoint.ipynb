{
 "cells": [
  {
   "cell_type": "markdown",
   "id": "b3e52ecc",
   "metadata": {},
   "source": [
    "## This is the data for NCES Public School Locations.\n",
    "Link to quilt https://open.quiltdata.com/b/spatial-ucr/tree/nces/schools/README.md\n",
    "\n",
    "\n",
    "The detail document for NCES can be accessed from the link:\n",
    "https://nces.ed.gov/programs/edge/docs/EDGE_GEOCODE_PUBLIC_FILEDOC.pdf\n",
    "\n",
    "\n"
   ]
  },
  {
   "cell_type": "markdown",
   "id": "b53f3322",
   "metadata": {},
   "source": [
    "### Code to retrieve the NCES data Set"
   ]
  },
  {
   "cell_type": "code",
   "execution_count": 2,
   "id": "baddb96a",
   "metadata": {},
   "outputs": [],
   "source": [
    "# Importing the tools to read the files\n",
    "import pandas as pd\n",
    "import geopandas as gpd\n",
    "from geopandas_view import view"
   ]
  },
  {
   "cell_type": "code",
   "execution_count": 3,
   "id": "10abefb6",
   "metadata": {},
   "outputs": [],
   "source": [
    "# This dataset contains information on years (2017-2018)\n",
    "schools = gpd.read_parquet('s3://spatial-ucr/nces/schools/schools_1718.parquet')\n"
   ]
  },
  {
   "cell_type": "code",
   "execution_count": 14,
   "id": "5483e31b",
   "metadata": {},
   "outputs": [
    {
     "data": {
      "text/html": [
       "<div>\n",
       "<style scoped>\n",
       "    .dataframe tbody tr th:only-of-type {\n",
       "        vertical-align: middle;\n",
       "    }\n",
       "\n",
       "    .dataframe tbody tr th {\n",
       "        vertical-align: top;\n",
       "    }\n",
       "\n",
       "    .dataframe thead th {\n",
       "        text-align: right;\n",
       "    }\n",
       "</style>\n",
       "<table border=\"1\" class=\"dataframe\">\n",
       "  <thead>\n",
       "    <tr style=\"text-align: right;\">\n",
       "      <th></th>\n",
       "      <th>NCESSCH</th>\n",
       "      <th>NAME</th>\n",
       "      <th>OPSTFIPS</th>\n",
       "      <th>STREET</th>\n",
       "      <th>CITY</th>\n",
       "      <th>STATE</th>\n",
       "      <th>ZIP</th>\n",
       "      <th>STFIP</th>\n",
       "      <th>CNTY</th>\n",
       "      <th>NMCNTY</th>\n",
       "      <th>...</th>\n",
       "      <th>CBSATYPE</th>\n",
       "      <th>CSA</th>\n",
       "      <th>NMCSA</th>\n",
       "      <th>NECTA</th>\n",
       "      <th>NMNECTA</th>\n",
       "      <th>CD</th>\n",
       "      <th>SLDL</th>\n",
       "      <th>SLDU</th>\n",
       "      <th>SCHOOLYEAR</th>\n",
       "      <th>geometry</th>\n",
       "    </tr>\n",
       "  </thead>\n",
       "  <tbody>\n",
       "    <tr>\n",
       "      <th>5576</th>\n",
       "      <td>060000710348</td>\n",
       "      <td>California School for the Deaf-Riverside</td>\n",
       "      <td>06</td>\n",
       "      <td>3044 Horace St.</td>\n",
       "      <td>Riverside</td>\n",
       "      <td>CA</td>\n",
       "      <td>92506</td>\n",
       "      <td>06</td>\n",
       "      <td>06065</td>\n",
       "      <td>Riverside County</td>\n",
       "      <td>...</td>\n",
       "      <td>1</td>\n",
       "      <td>348</td>\n",
       "      <td>Los Angeles-Long Beach, CA</td>\n",
       "      <td>N</td>\n",
       "      <td>N</td>\n",
       "      <td>0641</td>\n",
       "      <td>06061</td>\n",
       "      <td>06031</td>\n",
       "      <td>2017-2018</td>\n",
       "      <td>POINT (-117.37942 33.94373)</td>\n",
       "    </tr>\n",
       "    <tr>\n",
       "      <th>5727</th>\n",
       "      <td>060002702451</td>\n",
       "      <td>Tuscany Hills Elementary</td>\n",
       "      <td>06</td>\n",
       "      <td>23 Ponte Russo</td>\n",
       "      <td>Lake Elsinore</td>\n",
       "      <td>CA</td>\n",
       "      <td>92532</td>\n",
       "      <td>06</td>\n",
       "      <td>06065</td>\n",
       "      <td>Riverside County</td>\n",
       "      <td>...</td>\n",
       "      <td>1</td>\n",
       "      <td>348</td>\n",
       "      <td>Los Angeles-Long Beach, CA</td>\n",
       "      <td>N</td>\n",
       "      <td>N</td>\n",
       "      <td>0642</td>\n",
       "      <td>06067</td>\n",
       "      <td>06028</td>\n",
       "      <td>2017-2018</td>\n",
       "      <td>POINT (-117.28897 33.68620)</td>\n",
       "    </tr>\n",
       "    <tr>\n",
       "      <th>5728</th>\n",
       "      <td>060002702452</td>\n",
       "      <td>Donald Graham Elementary</td>\n",
       "      <td>06</td>\n",
       "      <td>35450 Frederick St.</td>\n",
       "      <td>Wildomar</td>\n",
       "      <td>CA</td>\n",
       "      <td>92595</td>\n",
       "      <td>06</td>\n",
       "      <td>06065</td>\n",
       "      <td>Riverside County</td>\n",
       "      <td>...</td>\n",
       "      <td>1</td>\n",
       "      <td>348</td>\n",
       "      <td>Los Angeles-Long Beach, CA</td>\n",
       "      <td>N</td>\n",
       "      <td>N</td>\n",
       "      <td>0642</td>\n",
       "      <td>06067</td>\n",
       "      <td>06028</td>\n",
       "      <td>2017-2018</td>\n",
       "      <td>POINT (-117.25699 33.60594)</td>\n",
       "    </tr>\n",
       "    <tr>\n",
       "      <th>5729</th>\n",
       "      <td>060002705011</td>\n",
       "      <td>David A. Brown Middle</td>\n",
       "      <td>06</td>\n",
       "      <td>21861 Grand Ave.</td>\n",
       "      <td>Wildomar</td>\n",
       "      <td>CA</td>\n",
       "      <td>92595</td>\n",
       "      <td>06</td>\n",
       "      <td>06065</td>\n",
       "      <td>Riverside County</td>\n",
       "      <td>...</td>\n",
       "      <td>1</td>\n",
       "      <td>348</td>\n",
       "      <td>Los Angeles-Long Beach, CA</td>\n",
       "      <td>N</td>\n",
       "      <td>N</td>\n",
       "      <td>0642</td>\n",
       "      <td>06067</td>\n",
       "      <td>06028</td>\n",
       "      <td>2017-2018</td>\n",
       "      <td>POINT (-117.27617 33.59164)</td>\n",
       "    </tr>\n",
       "    <tr>\n",
       "      <th>5730</th>\n",
       "      <td>060002707605</td>\n",
       "      <td>William Collier Elementary</td>\n",
       "      <td>06</td>\n",
       "      <td>20150 Mayhall Dr.</td>\n",
       "      <td>Wildomar</td>\n",
       "      <td>CA</td>\n",
       "      <td>92595</td>\n",
       "      <td>06</td>\n",
       "      <td>06065</td>\n",
       "      <td>Riverside County</td>\n",
       "      <td>...</td>\n",
       "      <td>1</td>\n",
       "      <td>348</td>\n",
       "      <td>Los Angeles-Long Beach, CA</td>\n",
       "      <td>N</td>\n",
       "      <td>N</td>\n",
       "      <td>0642</td>\n",
       "      <td>06067</td>\n",
       "      <td>06028</td>\n",
       "      <td>2017-2018</td>\n",
       "      <td>POINT (-117.30098 33.61655)</td>\n",
       "    </tr>\n",
       "  </tbody>\n",
       "</table>\n",
       "<p>5 rows × 25 columns</p>\n",
       "</div>"
      ],
      "text/plain": [
       "           NCESSCH                                      NAME OPSTFIPS  \\\n",
       "5576  060000710348  California School for the Deaf-Riverside       06   \n",
       "5727  060002702451                  Tuscany Hills Elementary       06   \n",
       "5728  060002702452                  Donald Graham Elementary       06   \n",
       "5729  060002705011                     David A. Brown Middle       06   \n",
       "5730  060002707605                William Collier Elementary       06   \n",
       "\n",
       "                   STREET           CITY STATE    ZIP STFIP   CNTY  \\\n",
       "5576      3044 Horace St.      Riverside    CA  92506    06  06065   \n",
       "5727       23 Ponte Russo  Lake Elsinore    CA  92532    06  06065   \n",
       "5728  35450 Frederick St.       Wildomar    CA  92595    06  06065   \n",
       "5729     21861 Grand Ave.       Wildomar    CA  92595    06  06065   \n",
       "5730    20150 Mayhall Dr.       Wildomar    CA  92595    06  06065   \n",
       "\n",
       "                NMCNTY  ... CBSATYPE  CSA                       NMCSA NECTA  \\\n",
       "5576  Riverside County  ...        1  348  Los Angeles-Long Beach, CA     N   \n",
       "5727  Riverside County  ...        1  348  Los Angeles-Long Beach, CA     N   \n",
       "5728  Riverside County  ...        1  348  Los Angeles-Long Beach, CA     N   \n",
       "5729  Riverside County  ...        1  348  Los Angeles-Long Beach, CA     N   \n",
       "5730  Riverside County  ...        1  348  Los Angeles-Long Beach, CA     N   \n",
       "\n",
       "     NMNECTA    CD   SLDL   SLDU SCHOOLYEAR                     geometry  \n",
       "5576       N  0641  06061  06031  2017-2018  POINT (-117.37942 33.94373)  \n",
       "5727       N  0642  06067  06028  2017-2018  POINT (-117.28897 33.68620)  \n",
       "5728       N  0642  06067  06028  2017-2018  POINT (-117.25699 33.60594)  \n",
       "5729       N  0642  06067  06028  2017-2018  POINT (-117.27617 33.59164)  \n",
       "5730       N  0642  06067  06028  2017-2018  POINT (-117.30098 33.61655)  \n",
       "\n",
       "[5 rows x 25 columns]"
      ]
     },
     "execution_count": 14,
     "metadata": {},
     "output_type": "execute_result"
    }
   ],
   "source": [
    "# We can see the first 5 rows of the dataset\n",
    "schools.head()\n"
   ]
  },
  {
   "cell_type": "code",
   "execution_count": 11,
   "id": "9c3ca3a0",
   "metadata": {},
   "outputs": [
    {
     "data": {
      "text/plain": [
       "Index(['NCESSCH', 'NAME', 'OPSTFIPS', 'STREET', 'CITY', 'STATE', 'ZIP',\n",
       "       'STFIP', 'CNTY', 'NMCNTY', 'LOCALE', 'LAT', 'LON', 'CBSA', 'NMCBSA',\n",
       "       'CBSATYPE', 'CSA', 'NMCSA', 'NECTA', 'NMNECTA', 'CD', 'SLDL', 'SLDU',\n",
       "       'SCHOOLYEAR', 'geometry'],\n",
       "      dtype='object')"
      ]
     },
     "execution_count": 11,
     "metadata": {},
     "output_type": "execute_result"
    }
   ],
   "source": [
    "# These are the columns in the data set refer to the document to get detail description\n",
    "schools.columns\n"
   ]
  },
  {
   "cell_type": "code",
   "execution_count": 7,
   "id": "96795acf",
   "metadata": {},
   "outputs": [],
   "source": [
    "# Here we are reducing the data to only schools in Riverside County as it has the census tract code 06065\n",
    "schools = schools[schools['CNTY']=='06065']\n"
   ]
  },
  {
   "cell_type": "code",
   "execution_count": 8,
   "id": "e678b587",
   "metadata": {},
   "outputs": [
    {
     "data": {
      "text/plain": [
       "<AxesSubplot:>"
      ]
     },
     "execution_count": 8,
     "metadata": {},
     "output_type": "execute_result"
    },
    {
     "data": {
      "image/png": "[encoded data removed]",
      "text/plain": [
       "<Figure size 432x288 with 1 Axes>"
      ]
     },
     "metadata": {
      "needs_background": "light"
     },
     "output_type": "display_data"
    }
   ],
   "source": [
    "schools.plot()\n"
   ]
  },
  {
   "cell_type": "code",
   "execution_count": 1,
   "id": "47924e3b",
   "metadata": {},
   "outputs": [
    {
     "ename": "NameError",
     "evalue": "name 'view' is not defined",
     "output_type": "error",
     "traceback": [
      "\u001b[0;31m---------------------------------------------------------------------------\u001b[0m",
      "\u001b[0;31mNameError\u001b[0m                                 Traceback (most recent call last)",
      "\u001b[0;32m<ipython-input-1-f5413010a206>\u001b[0m in \u001b[0;36m<module>\u001b[0;34m\u001b[0m\n\u001b[0;32m----> 1\u001b[0;31m \u001b[0mview\u001b[0m\u001b[0;34m(\u001b[0m\u001b[0mschools\u001b[0m\u001b[0;34m,\u001b[0m \u001b[0mtooltip\u001b[0m\u001b[0;34m=\u001b[0m\u001b[0;32mTrue\u001b[0m\u001b[0;34m)\u001b[0m\u001b[0;34m\u001b[0m\u001b[0;34m\u001b[0m\u001b[0m\n\u001b[0m",
      "\u001b[0;31mNameError\u001b[0m: name 'view' is not defined"
     ]
    }
   ],
   "source": [
    "view(schools, tooltip=True)\n"
   ]
  },
  {
   "cell_type": "code",
   "execution_count": null,
   "id": "7f49f90e",
   "metadata": {},
   "outputs": [],
   "source": []
  }
 ],
 "metadata": {
  "kernelspec": {
   "display_name": "Python 3",
   "language": "python",
   "name": "python3"
  },
  "language_info": {
   "codemirror_mode": {
    "name": "ipython",
    "version": 3
   },
   "file_extension": ".py",
   "mimetype": "text/x-python",
   "name": "python",
   "nbconvert_exporter": "python",
   "pygments_lexer": "ipython3",
   "version": "3.7.3"
  }
 },
 "nbformat": 4,
 "nbformat_minor": 5
}
